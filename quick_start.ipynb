{
 "cells": [
  {
   "cell_type": "code",
   "execution_count": 3,
   "id": "7030309b-e897-4aa4-b56b-72a894ed3dcd",
   "metadata": {},
   "outputs": [],
   "source": [
    "import frictionless as fc"
   ]
  },
  {
   "cell_type": "code",
   "execution_count": 2,
   "id": "a31d09db-b481-4424-b4a8-cf5f10d2b6aa",
   "metadata": {},
   "outputs": [
    {
     "name": "stdout",
     "output_type": "stream",
     "text": [
      "id,name,,name\n",
      "1,english\n",
      "1,english\n",
      "\n",
      "2,german,1,2,3\n",
      "\n"
     ]
    }
   ],
   "source": [
    "with open('dados/invalid.csv') as file:\n",
    "    print(file.read())"
   ]
  },
  {
   "cell_type": "code",
   "execution_count": 4,
   "id": "bdf6f606-31b5-478c-87e5-ac14096ba836",
   "metadata": {},
   "outputs": [],
   "source": [
    "resource = fc.describe('dados/invalid.csv')"
   ]
  },
  {
   "cell_type": "code",
   "execution_count": 5,
   "id": "a89d4ed7-5f9a-4ecf-a4cc-12de337c0966",
   "metadata": {},
   "outputs": [
    {
     "data": {
      "text/plain": [
       "{'encoding': 'utf-8',\n",
       " 'format': 'csv',\n",
       " 'hashing': 'md5',\n",
       " 'name': 'invalid',\n",
       " 'path': 'dados/invalid.csv',\n",
       " 'profile': 'tabular-data-resource',\n",
       " 'schema': {'fields': [{'name': 'id', 'type': 'integer'},\n",
       "                       {'name': 'name', 'type': 'string'},\n",
       "                       {'name': 'field3', 'type': 'integer'},\n",
       "                       {'name': 'name2', 'type': 'integer'}]},\n",
       " 'scheme': 'file'}"
      ]
     },
     "execution_count": 5,
     "metadata": {},
     "output_type": "execute_result"
    }
   ],
   "source": [
    "resource"
   ]
  },
  {
   "cell_type": "code",
   "execution_count": 6,
   "id": "b251001e-c70f-47f4-ad27-7d3181c4612d",
   "metadata": {},
   "outputs": [],
   "source": [
    "rows = fc.extract('dados/invalid.csv')"
   ]
  },
  {
   "cell_type": "code",
   "execution_count": 7,
   "id": "691c7d99-15d0-4aef-a1ae-0215f6f5bcf8",
   "metadata": {},
   "outputs": [
    {
     "data": {
      "text/plain": [
       "[{'id': 1, 'name': 'english', 'field3': None, 'name2': None},\n",
       " {'id': 1, 'name': 'english', 'field3': None, 'name2': None},\n",
       " {'id': None, 'name': None, 'field3': None, 'name2': None},\n",
       " {'id': 2, 'name': 'german', 'field3': 1, 'name2': 2}]"
      ]
     },
     "execution_count": 7,
     "metadata": {},
     "output_type": "execute_result"
    }
   ],
   "source": [
    "rows"
   ]
  },
  {
   "cell_type": "code",
   "execution_count": 8,
   "id": "a146f88a-5729-4e1e-92c6-79b924a811ea",
   "metadata": {},
   "outputs": [],
   "source": [
    "report = fc.validate('dados/invalid.csv')"
   ]
  },
  {
   "cell_type": "code",
   "execution_count": 10,
   "id": "975fe362-75e3-4236-a171-3de0c645a074",
   "metadata": {},
   "outputs": [
    {
     "data": {
      "text/plain": [
       "[[None, 3, 'blank-label'],\n",
       " [None, 4, 'duplicate-label'],\n",
       " [2, 3, 'missing-cell'],\n",
       " [2, 4, 'missing-cell'],\n",
       " [3, 3, 'missing-cell'],\n",
       " [3, 4, 'missing-cell'],\n",
       " [4, None, 'blank-row'],\n",
       " [5, 5, 'extra-cell']]"
      ]
     },
     "execution_count": 10,
     "metadata": {},
     "output_type": "execute_result"
    }
   ],
   "source": [
    "report.flatten([\"rowPosition\", \"fieldPosition\", \"code\"])"
   ]
  },
  {
   "cell_type": "code",
   "execution_count": null,
   "id": "75358151-be7e-41f3-a67e-d688a3d99112",
   "metadata": {},
   "outputs": [],
   "source": []
  }
 ],
 "metadata": {
  "kernelspec": {
   "display_name": "Python 3 (ipykernel)",
   "language": "python",
   "name": "python3"
  },
  "language_info": {
   "codemirror_mode": {
    "name": "ipython",
    "version": 3
   },
   "file_extension": ".py",
   "mimetype": "text/x-python",
   "name": "python",
   "nbconvert_exporter": "python",
   "pygments_lexer": "ipython3",
   "version": "3.10.4"
  }
 },
 "nbformat": 4,
 "nbformat_minor": 5
}
